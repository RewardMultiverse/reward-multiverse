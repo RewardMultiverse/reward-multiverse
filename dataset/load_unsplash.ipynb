{
 "cells": [
  {
   "cell_type": "markdown",
   "metadata": {},
   "source": [
    "\n",
    "# Download the Unsplash dataset\n",
    "\n",
    "This notebook can be used to download all images from the Unsplash dataset: https://github.com/unsplash/datasets. There are two versions Lite (25000 images) and Full (2M images). For the Full one you will need to apply for access (see [here](https://unsplash.com/data)). This will allow you to run CLIP on the whole dataset yourself. \n",
    "\n",
    "Put the .TSV files in the folder `unsplash-dataset/full` or `unsplash-dataset/lite` or adjust the path in the cell below. "
   ]
  },
  {
   "cell_type": "code",
   "execution_count": 1,
   "metadata": {},
   "outputs": [
    {
     "name": "stdout",
     "output_type": "stream",
     "text": [
      "unsplash-dataset-lite-latest\n"
     ]
    }
   ],
   "source": [
    "from pathlib import Path\n",
    "\n",
    "dataset_version = \"lite\"  # either \"lite\" or \"full\"\n",
    "unsplash_dataset_path = Path(\"unsplash-dataset-lite-latest\")\n",
    "print(unsplash_dataset_path)"
   ]
  },
  {
   "cell_type": "markdown",
   "metadata": {},
   "source": [
    "## Load the dataset\n",
    "\n",
    "The `photos.tsv000` contains metadata about the photos in the dataset, but not the photos themselves. We will use the URLs of the photos to download the actual images."
   ]
  },
  {
   "cell_type": "code",
   "execution_count": 3,
   "metadata": {},
   "outputs": [
    {
     "name": "stdout",
     "output_type": "stream",
     "text": [
      "Photos in the dataset: 25000\n"
     ]
    }
   ],
   "source": [
    "import pandas as pd\n",
    "\n",
    "# Read the photos table\n",
    "photos = pd.read_csv(unsplash_dataset_path / \"photos.tsv000\", sep='\\t', header=0)\n",
    "\n",
    "# Extract the IDs and the URLs of the photos\n",
    "photo_urls = photos[['photo_id', 'photo_image_url']].values.tolist()\n",
    "\n",
    "# Print some statistics\n",
    "print(f'Photos in the dataset: {len(photo_urls)}')"
   ]
  },
  {
   "cell_type": "markdown",
   "metadata": {},
   "source": [
    "The file name of each photo corresponds to its unique ID from Unsplash. We will download the photos in a reduced resolution (640 pixels width), because they are downscaled by CLIP anyway."
   ]
  },
  {
   "cell_type": "code",
   "execution_count": 4,
   "metadata": {},
   "outputs": [
    {
     "name": "stdout",
     "output_type": "stream",
     "text": [
      "/projects/katefgroup/datasets/rewards/unsplash/images\n"
     ]
    }
   ],
   "source": [
    "import urllib.request\n",
    "\n",
    "# Path where the photos will be downloaded\n",
    "# photos_donwload_path = unsplash_dataset_path / \"images\"\n",
    "photos_donwload_path = Path(\"/projects/katefgroup/datasets/rewards/unsplash/images\")\n",
    "# photos_donwload_path = \"/projects/katefgroup/datasets/rewards/unsplash/images\"\n",
    "print(photos_donwload_path)\n",
    "# Function that downloads a single photo\n",
    "def download_photo(photo):\n",
    "    # Get the ID of the photo\n",
    "    photo_id = photo[0]\n",
    "\n",
    "    # Get the URL of the photo (setting the width to 640 pixels)\n",
    "    photo_url = photo[1] + \"?w=640\"\n",
    "\n",
    "    # Path where the photo will be stored\n",
    "    photo_path = photos_donwload_path / (photo_id + \".jpg\")\n",
    "    # print(photo_path)\n",
    "    # Only download a photo if it doesn't exist\n",
    "    if not photo_path.exists():\n",
    "        try:\n",
    "            urllib.request.urlretrieve(photo_url, photo_path)\n",
    "        except:\n",
    "            # Catch the exception if the download fails for some reason\n",
    "            print(f\"Cannot download {photo_url}\")\n",
    "            pass"
   ]
  },
  {
   "cell_type": "markdown",
   "metadata": {},
   "source": [
    "Now the actual download! The download can be parallelized very well, so we will use a thread pool. You may need to tune the `threads_count` parameter to achieve the optimzal performance based on your Internet connection. For me even 128 worked quite well."
   ]
  },
  {
   "cell_type": "code",
   "execution_count": 6,
   "metadata": {},
   "outputs": [
    {
     "name": "stdout",
     "output_type": "stream",
     "text": [
      "Cannot download https://images.unsplash.com-grass-sun.jpg?w=640\n",
      "Cannot download https://images.unsplash.com/unsplash-premium-photos-production/premium_photo-1675446536649-e0d90add63bb?w=640\n",
      "Cannot download https://images.unsplash.com/unsplash-premium-photos-production/premium_photo-1675826725982-e8508781c558?w=640\n",
      "Cannot download https://images.unsplash.com_TheBeach.jpg?w=640\n",
      "Cannot download https://images.unsplash.com/unsplash-premium-photos-production/premium_photo-1668883188879-3a7acd2bec58?w=640\n",
      "Cannot download https://images.unsplash.com/unsplash-premium-photos-production/premium_photo-1700391373098-cd9acd1b7e7c?w=640\n",
      "Cannot download https://images.unsplash.com/unsplash-premium-photos-production/premium_photo-1696839602315-4bf9599635f2?w=640\n",
      "Cannot download https://images.unsplash.company?w=640\n",
      "Cannot download https://images.unsplash.com/unsplash-premium-photos-production/premium_photo-1676660359441-c620089f798a?w=640\n",
      "Cannot download https://images.unsplash.com/unsplash-premium-photos-production/premium_photo-1695635230516-e69891d27488?w=640\n",
      "Cannot download https://images.unsplash.com/unsplash-premium-photos-production/premium_photo-1664547606960-008623079291?w=640\n",
      "Cannot download https://images.unsplash.com/unsplash-premium-photos-production/premium_photo-1677636665443-2276041868e7?w=640\n",
      "Cannot download https://images.unsplash.com/unsplash-premium-photos-production/premium_photo-1695219820032-34cfa7950b09?w=640\n",
      "Cannot download https://images.unsplash.com/unsplash-premium-photos-production/premium_photo-1676667573119-40081df5d920?w=640\n",
      "Cannot download https://images.unsplash.com/unsplash-premium-photos-production/premium_photo-1700984292461-fa2d83c28c6b?w=640\n",
      "Cannot download https://images.unsplash.com/unsplash-premium-photos-production/premium_photo-1669842336797-4dfc03afa025?w=640\n",
      "Cannot download https://images.unsplash.com/unsplash-premium-photos-production/premium_photo-1700567963303-1b83673c52a4?w=640\n",
      "Cannot download https://images.unsplash.com/unsplash-premium-photos-production/premium_photo-1698420085881-1b840c138a47?w=640\n",
      "Cannot download https://images.unsplash.com/unsplash-premium-photos-production/premium_photo-1673980029859-9e5ddaee1577?w=640\n",
      "Cannot download https://images.unsplash.com/unsplash-premium-photos-production/premium_photo-1675826638532-09d5c136dd7a?w=640\n",
      "Cannot download https://images.unsplash.com/unsplash-premium-photos-production/premium_photo-1690325099431-1e536ba176bf?w=640\n",
      "Cannot download https://images.unsplash.com/unsplash-premium-photos-production/premium_photo-1678382343928-825f71ac5856?w=640\n",
      "Cannot download https://images.unsplash.com/unsplash-premium-photos-production/premium_photo-1701192455496-a095e6e5f792?w=640\n"
     ]
    },
    {
     "data": {
      "text/plain": [
       "'Photos downloaded: 25000'"
      ]
     },
     "metadata": {},
     "output_type": "display_data"
    }
   ],
   "source": [
    "from multiprocessing.pool import ThreadPool\n",
    "\n",
    "# Create the thread pool\n",
    "threads_count = 16\n",
    "pool = ThreadPool(threads_count)\n",
    "\n",
    "# Start the download\n",
    "pool.map(download_photo, photo_urls)\n",
    "\n",
    "# Display some statistics\n",
    "display(f'Photos downloaded: {len(photos)}')"
   ]
  },
  {
   "cell_type": "code",
   "execution_count": null,
   "metadata": {},
   "outputs": [],
   "source": []
  },
  {
   "cell_type": "code",
   "execution_count": null,
   "metadata": {},
   "outputs": [],
   "source": []
  },
  {
   "cell_type": "code",
   "execution_count": null,
   "metadata": {},
   "outputs": [],
   "source": []
  }
 ],
 "metadata": {
  "kernelspec": {
   "display_name": "reward",
   "language": "python",
   "name": "reward"
  },
  "language_info": {
   "codemirror_mode": {
    "name": "ipython",
    "version": 3
   },
   "file_extension": ".py",
   "mimetype": "text/x-python",
   "name": "python",
   "nbconvert_exporter": "python",
   "pygments_lexer": "ipython3",
   "version": "3.10.14"
  }
 },
 "nbformat": 4,
 "nbformat_minor": 4
}
